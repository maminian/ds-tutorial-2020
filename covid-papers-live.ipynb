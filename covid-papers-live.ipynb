{
 "cells": [
  {
   "cell_type": "code",
   "execution_count": 3,
   "metadata": {},
   "outputs": [],
   "source": [
    "import numpy as np\n",
    "from matplotlib import pyplot\n",
    "import pandas\n",
    "\n",
    "import utils"
   ]
  },
  {
   "cell_type": "code",
   "execution_count": 4,
   "metadata": {},
   "outputs": [
    {
     "name": "stdout",
     "output_type": "stream",
     "text": [
      "1 of 1053 files read.\n",
      "53 of 1053 files read.\n",
      "105 of 1053 files read.\n",
      "157 of 1053 files read.\n",
      "209 of 1053 files read.\n",
      "261 of 1053 files read.\n",
      "313 of 1053 files read.\n",
      "365 of 1053 files read.\n",
      "417 of 1053 files read.\n",
      "469 of 1053 files read.\n",
      "521 of 1053 files read.\n",
      "573 of 1053 files read.\n",
      "625 of 1053 files read.\n",
      "677 of 1053 files read.\n",
      "729 of 1053 files read.\n",
      "781 of 1053 files read.\n",
      "833 of 1053 files read.\n",
      "885 of 1053 files read.\n",
      "937 of 1053 files read.\n",
      "989 of 1053 files read.\n",
      "1041 of 1053 files read.\n"
     ]
    }
   ],
   "source": [
    "preprints = utils.load_biorxiv()"
   ]
  },
  {
   "cell_type": "code",
   "execution_count": 8,
   "metadata": {},
   "outputs": [],
   "source": [
    "paper = preprints[0]\n",
    "titles = []\n",
    "for paper in preprints:\n",
    "    titles.append( paper['metadata']['title'] )"
   ]
  },
  {
   "cell_type": "code",
   "execution_count": 17,
   "metadata": {},
   "outputs": [],
   "source": [
    "hits = [('SARS-CoV-2' in title) for title in titles]"
   ]
  },
  {
   "cell_type": "code",
   "execution_count": 18,
   "metadata": {},
   "outputs": [
    {
     "data": {
      "text/plain": [
       "109"
      ]
     },
     "execution_count": 18,
     "metadata": {},
     "output_type": "execute_result"
    }
   ],
   "source": [
    "sum(hits)"
   ]
  },
  {
   "cell_type": "code",
   "execution_count": null,
   "metadata": {},
   "outputs": [],
   "source": []
  }
 ],
 "metadata": {
  "kernelspec": {
   "display_name": "Python 3",
   "language": "python",
   "name": "python3"
  },
  "language_info": {
   "codemirror_mode": {
    "name": "ipython",
    "version": 3
   },
   "file_extension": ".py",
   "mimetype": "text/x-python",
   "name": "python",
   "nbconvert_exporter": "python",
   "pygments_lexer": "ipython3",
   "version": "3.7.0"
  }
 },
 "nbformat": 4,
 "nbformat_minor": 2
}
